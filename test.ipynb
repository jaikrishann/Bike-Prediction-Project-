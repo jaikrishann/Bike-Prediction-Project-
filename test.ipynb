{
 "cells": [
  {
   "cell_type": "code",
   "execution_count": 1,
   "metadata": {},
   "outputs": [
    {
     "name": "stdout",
     "output_type": "stream",
     "text": [
      "[[2, 3], [5]]\n"
     ]
    }
   ],
   "source": [
    "arr = [1,2,3,4,5]\n",
    "new_arr = []\n",
    "\n",
    "for i in range(len(arr)):\n",
    "    current_sum = 0 \n",
    "    for j in range(i,len(arr)):\n",
    "        current_sum += arr[j]\n",
    "        if current_sum ==5:\n",
    "            new_arr.append(arr[i:j+1])\n",
    "\n",
    "print(new_arr)\n",
    "            \n",
    "\n",
    "\n"
   ]
  },
  {
   "cell_type": "code",
   "execution_count": null,
   "metadata": {},
   "outputs": [],
   "source": []
  }
 ],
 "metadata": {
  "kernelspec": {
   "display_name": "Python 3",
   "language": "python",
   "name": "python3"
  },
  "language_info": {
   "codemirror_mode": {
    "name": "ipython",
    "version": 3
   },
   "file_extension": ".py",
   "mimetype": "text/x-python",
   "name": "python",
   "nbconvert_exporter": "python",
   "pygments_lexer": "ipython3",
   "version": "3.12.6"
  }
 },
 "nbformat": 4,
 "nbformat_minor": 2
}
